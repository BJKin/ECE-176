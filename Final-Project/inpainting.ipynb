{
 "cells": [
  {
   "cell_type": "markdown",
   "metadata": {},
   "source": [
    "# A Modern Reimplementation of \"Context Encoders: Feature Learning by Inpainting\" using PyTorch\n",
    "\n"
   ]
  },
  {
   "cell_type": "markdown",
   "metadata": {},
   "source": [
    "Brief description of project"
   ]
  },
  {
   "cell_type": "markdown",
   "metadata": {},
   "source": [
    "# Part I. Data Preparation"
   ]
  },
  {
   "cell_type": "code",
   "execution_count": 3,
   "metadata": {},
   "outputs": [],
   "source": [
    "import torch\n",
    "import torch.nn as nn\n",
    "import torch.optim as optim\n",
    "\n",
    "#dependencies for importing/reshaping data\n",
    "\n",
    "import os\n",
    "import zipfile\n",
    "from PIL import Image"
   ]
  },
  {
   "cell_type": "markdown",
   "metadata": {},
   "source": [
    "\n",
    "\n",
    "\n",
    "\n",
    "def categorize_and_resize(root_dir, target_sizes={'128x128': (128, 128), '227x227': (227, 227)}):\n",
    "    # Create output base directories for each target size\n",
    "    for size_label in target_sizes.keys():\n",
    "        os.makedirs(os.path.join(root_dir, size_label), exist_ok=True)\n",
    "    \n",
    "    # Walk through the dataset recursively\n",
    "    for current_dir, subdirs, files in os.walk(root_dir):\n",
    "\n",
    "        print(f\"Visiting: {current_dir}, Files found: {len(files)}\")\n",
    "        # Skip our output directories to avoid processing them again\n",
    "        if os.path.basename(current_dir) in target_sizes.keys():\n",
    "            continue\n",
    "        \n",
    "        # Get relative path from root_dir to current_dir\n",
    "        rel_dir = os.path.relpath(current_dir, root_dir)\n",
    "        \n",
    "        for file in files:\n",
    "\n",
    "            #handling cases of non standardized file extendsions\n",
    "            if file.lower().endswith(('.png', '.jpg', '.jpeg')):\n",
    "                file_path = os.path.join(current_dir, file)\n",
    "                try:\n",
    "                    with Image.open(file_path) as img:\n",
    "                        img = img.convert('RGB')\n",
    "                        # For each target size, create subfolder structure and save the resized image\n",
    "                        for size_label, dims in target_sizes.items():\n",
    "                        \n",
    "                            output_subdir = os.path.join(root_dir, size_label, rel_dir)\n",
    "                            os.makedirs(output_subdir, exist_ok=True)\n",
    "                            resized_img = img.resize(dims)\n",
    "                            resized_img.save(os.path.join(output_subdir, file))\n",
    "                            print(f\"Saved {file} to {os.path.join(output_subdir, file)}\")\n",
    "                except Exception as e:\n",
    "                    print(f\"Error processing {file_path}: {e}\")\n",
    "\n",
    "# Example usage:\n",
    "base_dir = './data'\n",
    "categorize_and_resize(base_dir)\n"
   ]
  },
  {
   "cell_type": "markdown",
   "metadata": {},
   "source": [
    "# Part II. Training the model"
   ]
  },
  {
   "cell_type": "code",
   "execution_count": null,
   "metadata": {},
   "outputs": [],
   "source": []
  },
  {
   "cell_type": "markdown",
   "metadata": {},
   "source": [
    "# Part III. Evaluating the model"
   ]
  },
  {
   "cell_type": "code",
   "execution_count": null,
   "metadata": {},
   "outputs": [],
   "source": []
  }
 ],
 "metadata": {
  "kernelspec": {
   "display_name": "Python 3 (ipykernel)",
   "language": "python",
   "name": "python3"
  },
  "language_info": {
   "codemirror_mode": {
    "name": "ipython",
    "version": 3
   },
   "file_extension": ".py",
   "mimetype": "text/x-python",
   "name": "python",
   "nbconvert_exporter": "python",
   "pygments_lexer": "ipython3",
   "version": "3.12.7"
  }
 },
 "nbformat": 4,
 "nbformat_minor": 4
}
